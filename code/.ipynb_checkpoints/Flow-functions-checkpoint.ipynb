{
 "cells": [
  {
   "cell_type": "code",
   "execution_count": 78,
   "metadata": {
    "collapsed": true
   },
   "outputs": [],
   "source": [
    "import random\n",
    "import numpy as np\n",
    "import scipy as sp\n",
    "import math\n",
    "from sklearn import metrics\n",
    "from sklearn import svm\n",
    "from sklearn import manifold\n",
    "from sklearn.datasets import *\n",
    "from sklearn.neighbors import NearestNeighbors\n",
    "import matplotlib as mpl\n",
    "import matplotlib.pyplot as plt\n",
    "import time\n",
    "import seaborn as sns\n",
    "%matplotlib inline"
   ]
  },
  {
   "cell_type": "markdown",
   "metadata": {},
   "source": [
    "## Utility / plotting functions"
   ]
  },
  {
   "cell_type": "code",
   "execution_count": 897,
   "metadata": {
    "collapsed": true
   },
   "outputs": [],
   "source": [
    "def plot_flow(x,y,fun,ladj=5):\n",
    "    u=np.zeros((x.shape[0],y.shape[0]))\n",
    "    v=np.zeros((x.shape[0],y.shape[0]))\n",
    "    nrm=np.zeros((x.shape[0],y.shape[0]))\n",
    "    for i in xrange(x.shape[0]):\n",
    "        ptv=np.vstack((np.full(y.shape[0],x[i]),y))\n",
    "        flowtmp=fun(ptv)\n",
    "        u[:,i]=flowtmp[0,:]\n",
    "        v[:,i]=flowtmp[1,:]\n",
    "        nrm[:,i]=np.sqrt(np.sum(flowtmp**2.0,0))\n",
    "    plt.streamplot(x,y,u,v,density=1.0,linewidth=ladj*nrm/np.max(nrm))"
   ]
  },
  {
   "cell_type": "code",
   "execution_count": 898,
   "metadata": {
    "collapsed": true
   },
   "outputs": [],
   "source": [
    "def euler_maruyama_dist(p, flow, dt, t, sd):\n",
    "    pp = np.copy(p)\n",
    "    n = int(t/dt)\n",
    "    sqrtdt = np.sqrt(dt)\n",
    "    for i in xrange(n):\n",
    "        drift = flow(pp)\n",
    "        pp = pp + drift*dt + np.random.normal(scale=sd,size=p.shape)*sqrtdt\n",
    "    return pp"
   ]
  },
  {
   "cell_type": "code",
   "execution_count": null,
   "metadata": {
    "collapsed": true
   },
   "outputs": [],
   "source": [
    "def euler_maruyama_dist_traj(p, flow, dt, t, sd):\n",
    "    pp = np.copy(p)\n",
    "    n = int(t/dt)\n",
    "    pset = np.zeros((pp.shape[0],pp.shape[1],n))\n",
    "    sqrtdt = np.sqrt(dt)\n",
    "    for i in xrange(n):\n",
    "        drift = flow(pp)\n",
    "        pp = pp + drift*dt + np.random.normal(scale=sd,size=p.shape)*sqrtdt\n",
    "        pset[:,:,i]=pp\n",
    "    return pset"
   ]
  },
  {
   "cell_type": "code",
   "execution_count": 899,
   "metadata": {
    "collapsed": true
   },
   "outputs": [],
   "source": [
    "def plot_w(W_matrix, b_vec, g_vec):\n",
    "    uvw=W_matrix/np.sum(W_matrix**2,1)[:,np.newaxis]\n",
    "    offsets = uvw*b_vec[:,np.newaxis]\n",
    "    plt.quiver(offsets[:,0],offsets[:,1],W_matrix[:,0]*g_vec,W_matrix[:,1]*g_vec)"
   ]
  },
  {
   "cell_type": "markdown",
   "metadata": {},
   "source": [
    "### Plotting code for the output"
   ]
  },
  {
   "cell_type": "code",
   "execution_count": 894,
   "metadata": {
    "collapsed": true
   },
   "outputs": [],
   "source": [
    "def plot_flow_par(x,y,potfun,W,b,g):\n",
    "    u=np.zeros((x.shape[0],y.shape[0]))\n",
    "    v=np.zeros((x.shape[0],y.shape[0]))\n",
    "    nrm=np.zeros((x.shape[0],y.shape[0]))\n",
    "    for i in xrange(x.shape[0]):\n",
    "        ptv=np.vstack((np.full(y.shape[0],x[i]),y))\n",
    "        flowtmp=drift_fun(potfun,W,b,g,ptv)\n",
    "        u[:,i]=flowtmp[0,:]\n",
    "        v[:,i]=flowtmp[1,:]\n",
    "        nrm[:,i]=np.sqrt(np.sum(flowtmp**2.0,0))\n",
    "    #plt.quiver(x,y,u,v)\n",
    "    plt.streamplot(x,y,u,v,density=1.0,linewidth=3*nrm/np.max(nrm))"
   ]
  },
  {
   "cell_type": "code",
   "execution_count": 895,
   "metadata": {
    "collapsed": true
   },
   "outputs": [],
   "source": [
    "def plot_flow_pot(pot,x,y,W,b,g):\n",
    "    z=np.zeros((x.shape[0],y.shape[0]))\n",
    "    for i in xrange(x.shape[0]):\n",
    "        ptv=np.vstack((np.full(y.shape[0],x[i]),y))\n",
    "        flowtmp= np.sum(pot.f(np.dot(W,ptv)+b[:,np.newaxis])*g[:,np.newaxis],0)\n",
    "        z[:,i]=flowtmp\n",
    "    plt.pcolormesh(x,y,np.exp(z))\n",
    "    CS = plt.contour(x,y,z)\n",
    "    plt.clabel(CS, inline=1, fontsize=10)"
   ]
  },
  {
   "cell_type": "code",
   "execution_count": 896,
   "metadata": {
    "collapsed": true
   },
   "outputs": [],
   "source": [
    "def plot_flow_both(x,y,parin):\n",
    "    plot_flow_pot(parin.potin,x,y,parin.W_matrix,parin.b_vec,parin.g_vec)\n",
    "    plot_flow_par(x,y,parin.potin,parin.W_matrix,parin.b_vec,parin.g_vec)"
   ]
  },
  {
   "cell_type": "markdown",
   "metadata": {},
   "source": [
    "## Potential function"
   ]
  },
  {
   "cell_type": "markdown",
   "metadata": {},
   "source": [
    "For algorithmic details, see: https://www.sharelatex.com/project/565221a8db798e5822aba651"
   ]
  },
  {
   "cell_type": "code",
   "execution_count": 268,
   "metadata": {
    "collapsed": true
   },
   "outputs": [],
   "source": [
    "def ilogit(x):\n",
    "    return sp.special.expit(x)\n",
    "    #return 1/(1+np.exp(-x))"
   ]
  },
  {
   "cell_type": "code",
   "execution_count": 618,
   "metadata": {
    "collapsed": true
   },
   "outputs": [],
   "source": [
    "class logitPotential:\n",
    "    \"\"\"This function defines a sum-of-logits potential\"\"\"\n",
    "    def f(self,x):\n",
    "        return -1*ilogit(x)\n",
    "    def fp(self,x):\n",
    "        lx=ilogit(x)\n",
    "        return -1*lx*(1-lx)\n",
    "    def fpp(self,x):\n",
    "        lx=ilogit(x)\n",
    "        return -1*(lx*(1-lx)**2-lx**2*(1-lx))"
   ]
  },
  {
   "cell_type": "code",
   "execution_count": 263,
   "metadata": {
    "collapsed": true
   },
   "outputs": [],
   "source": [
    "class reluPotential:\n",
    "    \"\"\"This function defines a potential as log(1+exp(x))\"\"\"\n",
    "    def f(self,x):\n",
    "        return -1*np.log(1+np.exp(x))\n",
    "    def fp(self,x):\n",
    "        return -1*ilogit(x)\n",
    "    def fpp(self,x):\n",
    "        lx = ilogit(x)\n",
    "        return -1*lx*(1-lx)"
   ]
  },
  {
   "cell_type": "code",
   "execution_count": 45,
   "metadata": {
    "collapsed": true
   },
   "outputs": [],
   "source": [
    "class quadraticPotential:\n",
    "    \"\"\"This function defines a potential as x**2\"\"\"\n",
    "    def f(self,x):\n",
    "        return -x**2/2\n",
    "    def fp(self,x):\n",
    "        return -x\n",
    "    def fpp(self,x):\n",
    "        return np.zeros(x.shape)-1"
   ]
  },
  {
   "cell_type": "markdown",
   "metadata": {},
   "source": [
    "# Backprop-related"
   ]
  },
  {
   "cell_type": "markdown",
   "metadata": {},
   "source": [
    "## Simulating a SDE"
   ]
  },
  {
   "cell_type": "code",
   "execution_count": null,
   "metadata": {
    "collapsed": true
   },
   "outputs": [],
   "source": [
    "def drift_fun(pot,W,b,g,y):\n",
    "    scalings = pot.fp(np.dot(W,y)+b[:,np.newaxis])*g[:,np.newaxis] #matrix, K by num_samp\n",
    "    return np.dot(np.transpose(W),scalings)"
   ]
  },
  {
   "cell_type": "code",
   "execution_count": 49,
   "metadata": {
    "collapsed": true
   },
   "outputs": [],
   "source": [
    "def drift_fun_single(pot,W,b,g,y):\n",
    "    scalings = pot.fp(np.dot(W,y)+b[:,np.newaxis])*g[:,np.newaxis] #matrix, K by num_samp\n",
    "    drift = np.zeros(y.shape)\n",
    "    for i in xrange(drift.shape[1]):\n",
    "        drift[:,i]=np.sum(W*scalings[:,i][:,np.newaxis],0)\n",
    "    return drift"
   ]
  },
  {
   "cell_type": "code",
   "execution_count": null,
   "metadata": {
    "collapsed": true
   },
   "outputs": [],
   "source": [
    "def euler_maruyama_traj(p,num_samp,W_matrix,b_vec,g_vec,dt,time,sd,potfun):\n",
    "    repflag = p.shape[1] < num_samp\n",
    "    p_sub=np.random.choice(p.shape[1],size=num_samp,replace=repflag)\n",
    "    pp = np.copy(p[:,p_sub])\n",
    "    n = int(time/dt)\n",
    "    ptraj = np.zeros((p.shape[0],num_samp,n))\n",
    "    sqrtdt = np.sqrt(dt)\n",
    "    for i in xrange(n):\n",
    "        drift = drift_fun(potfun,W_matrix,b_vec,g_vec,pp)\n",
    "        pp = pp + drift*dt + np.random.normal(scale=sd,size=(p.shape[0],num_samp))*sqrtdt\n",
    "        ptraj[:,:,i]=pp\n",
    "    return ptraj"
   ]
  },
  {
   "cell_type": "markdown",
   "metadata": {},
   "source": [
    "## Loss function"
   ]
  },
  {
   "cell_type": "code",
   "execution_count": 6,
   "metadata": {
    "collapsed": true
   },
   "outputs": [],
   "source": [
    "def get_dist(yt, ytrue):\n",
    "    ytnorm = np.sum(yt**2,0)\n",
    "    ytruenorm = np.sum(ytrue**2,0)\n",
    "    dotprod = np.dot(yt.T,ytrue)\n",
    "    return np.add.outer(ytnorm,ytruenorm) - 2*dotprod"
   ]
  },
  {
   "cell_type": "code",
   "execution_count": 7,
   "metadata": {
    "collapsed": true
   },
   "outputs": [],
   "source": [
    "from scipy.optimize import fminbound\n",
    "def error_term(yt, ytrue, kern_sig, minv = 1e-4):\n",
    "    distsq = get_dist(yt,ytrue)\n",
    "    d=yt.shape[0]\n",
    "    if kern_sig is None:\n",
    "        train_size = int(0.2*yt.shape[1])+1\n",
    "        indices = np.random.permutation(yt.shape[1])\n",
    "        training_idx, test_idx = indices[:train_size], indices[train_size:]\n",
    "        training, test = yt[:,training_idx], yt[:,test_idx]\n",
    "        dist_train = get_dist(training,test)\n",
    "        spo=fminbound(error_from_dmat, x1=minv, x2=max(np.max(dist_train),4.0*minv)/2.0, args=(dist_train, d), full_output=True)\n",
    "        kern_sig = spo[0]\n",
    "    expterm = np.exp(-distsq/(2*kern_sig))/kern_sig**(d/2.0)\n",
    "    esum = np.sum(expterm,0)\n",
    "    #print esum.shape\n",
    "    errweight = expterm/esum\n",
    "    grad_err = np.zeros(yt.shape)\n",
    "    for i in xrange(errweight.shape[0]):\n",
    "        grad_err[:,i]=np.sum(-2*(yt[:,i][:,np.newaxis]-ytrue)/kern_sig*errweight[i,],1)\n",
    "    return grad_err, np.sum(np.log(esum))"
   ]
  },
  {
   "cell_type": "code",
   "execution_count": 28,
   "metadata": {
    "collapsed": true
   },
   "outputs": [],
   "source": [
    "def error_from_dmat(kern_sig, distsq, d):\n",
    "    expterm = np.exp(-distsq/(2*kern_sig))/kern_sig**(d/2.0)\n",
    "    fv = -1*np.sum(np.log(np.sum(expterm,0)))\n",
    "    #print kern_sig, fv\n",
    "    return fv"
   ]
  },
  {
   "cell_type": "code",
   "execution_count": null,
   "metadata": {
    "collapsed": true
   },
   "outputs": [],
   "source": [
    "from scipy.optimize import brent\n",
    "def optim_dmat(dmat,d):\n",
    "    spo=sp.optimize.brent(error_from_dmat, args=(dmat, d))"
   ]
  },
  {
   "cell_type": "markdown",
   "metadata": {},
   "source": [
    "## Backprop + Error gradient"
   ]
  },
  {
   "cell_type": "code",
   "execution_count": 1,
   "metadata": {
    "collapsed": true
   },
   "outputs": [],
   "source": [
    "\"\"\"Given err at time t, yt-dt, produce err at t-dt, and backpropagate\"\"\"\n",
    "def backweight(pot, err, W_matrix,b_vec,g,ytp,dt):\n",
    "    Wydot = np.dot(W_matrix,ytp)\n",
    "    Wedot = np.dot(W_matrix,err)\n",
    "    linterm = Wydot+b_vec\n",
    "    pplin = pot.fp(linterm)\n",
    "    pdlin = pot.fpp(linterm)\n",
    "    scalings = g*pdlin*Wedot\n",
    "    err_new = err + dt*np.sum(W_matrix*scalings[:,np.newaxis],0)\n",
    "    dw = dt*(g*pplin)[:,np.newaxis]*err + (dt*g*pdlin)[:,np.newaxis]*W_matrix*np.dot(ytp,err)\n",
    "    db = dt*g*pdlin*Wedot\n",
    "    dg = dt*pplin*Wedot\n",
    "    return [dw, db, dg, err_new]"
   ]
  },
  {
   "cell_type": "markdown",
   "metadata": {},
   "source": [
    "##Old code"
   ]
  },
  {
   "cell_type": "code",
   "execution_count": null,
   "metadata": {
    "collapsed": true
   },
   "outputs": [],
   "source": [
    "  \n",
    "#these functions deal with single yi/yt\n",
    "def weight_deriv(pot,err,W_matrix,b_vec,g,k,yi,dt):\n",
    "    linterm = np.dot(W_matrix[k,:],yi)+b_vec[k]\n",
    "    plin = pot.fp(linterm)\n",
    "    pdlin = pot.fpp(linterm)\n",
    "    dwk = dt*g[k]*plin*err + dt*g[k]*pdlin*W_matrix[k,:]*np.dot(yi,err)\n",
    "    dbk = dt*g[k]*pdlin*np.dot(W_matrix[k,:],err)\n",
    "    dgk = dt*plin*np.dot(W_matrix[k,:],err)\n",
    "    return [dwk, dbk, dgk]\n",
    "\n",
    "def backprop_deriv(pot,err,W_matrix, b_vec,g,yt,dt):\n",
    "    pdlin = pot.fpp(np.dot(W_matrix,yt)+b_vec)\n",
    "    scalings = g*pdlin*np.dot(W_matrix,err)\n",
    "    return err + dt*np.sum(W_matrix*scalings[:,np.newaxis],0)\n",
    "\n",
    "\"\"\"Given err at time t, yt-dt, produce w gradients. Takes a single y.\"\"\"\n",
    "def weight_deriv_all(pot,err,W_matrix,b_vec,g,yi,dt):\n",
    "    Wydot = np.dot(W_matrix,yi)\n",
    "    Wedot = np.dot(W_matrix,err)\n",
    "    linterm = Wydot+b_vec\n",
    "    pplin = pot.fp(linterm)\n",
    "    pdlin = pot.fpp(linterm)\n",
    "    dw = dt*(g*pplin)[:,np.newaxis]*err + (dt*g*pdlin)[:,np.newaxis]*W_matrix*np.dot(yi,err)\n",
    "    db = dt*g*pdlin*Wedot\n",
    "    dg = dt*pplin*Wedot\n",
    "    return [dw, db, dg]"
   ]
  },
  {
   "cell_type": "markdown",
   "metadata": {},
   "source": [
    "# Gradient descent helpers"
   ]
  },
  {
   "cell_type": "code",
   "execution_count": null,
   "metadata": {
    "collapsed": true
   },
   "outputs": [],
   "source": [
    "def backweight_all(pot,err_top, W_matrix, b_vec, g_vec, traj,dt):\n",
    "    grad_mat = np.zeros(W_matrix.shape)\n",
    "    grad_vec = np.zeros(b_vec.shape)\n",
    "    grad_g = np.zeros(g_vec.shape)\n",
    "    err_mat = np.zeros(traj.shape)\n",
    "    for i in xrange(traj.shape[1]):\n",
    "        err_cur = np.copy(err_top[:,i])\n",
    "        err_mat[:,i,traj.shape[2]-1]=err_cur\n",
    "        for t in xrange(traj.shape[2]-1):\n",
    "            revt = traj.shape[2]-t-2\n",
    "            dw, db, dg, err_cur = backweight(pot,err_cur, W_matrix, b_vec ,g_vec, traj[:,i,revt],dt)\n",
    "            grad_mat+=dw\n",
    "            grad_vec+=db\n",
    "            grad_g+=dg\n",
    "            err_mat[:,i,revt]=err_cur\n",
    "    return grad_mat, grad_vec, grad_g, err_mat"
   ]
  },
  {
   "cell_type": "markdown",
   "metadata": {},
   "source": [
    "These classes carry the parameters around"
   ]
  },
  {
   "cell_type": "code",
   "execution_count": 1,
   "metadata": {},
   "outputs": [
    {
     "ename": "NameError",
     "evalue": "name 'logitPotential' is not defined",
     "output_type": "error",
     "traceback": [
      "\u001b[1;31m---------------------------------------------------------------------------\u001b[0m",
      "\u001b[1;31mNameError\u001b[0m                                 Traceback (most recent call last)",
      "\u001b[1;32m<ipython-input-1-3a43e1a19e6b>\u001b[0m in \u001b[0;36m<module>\u001b[1;34m()\u001b[0m\n\u001b[0;32m     12\u001b[0m         \u001b[0mself\u001b[0m\u001b[1;33m.\u001b[0m\u001b[0mdt\u001b[0m\u001b[1;33m=\u001b[0m\u001b[0mdt\u001b[0m\u001b[1;33m\u001b[0m\u001b[0m\n\u001b[0;32m     13\u001b[0m         \u001b[0mself\u001b[0m\u001b[1;33m.\u001b[0m\u001b[0mtime\u001b[0m\u001b[1;33m=\u001b[0m\u001b[0mtime\u001b[0m\u001b[1;33m\u001b[0m\u001b[0m\n\u001b[1;32m---> 14\u001b[1;33m \u001b[1;32mclass\u001b[0m \u001b[0mparset\u001b[0m\u001b[1;33m:\u001b[0m\u001b[1;33m\u001b[0m\u001b[0m\n\u001b[0m\u001b[0;32m     15\u001b[0m     \u001b[1;32mdef\u001b[0m \u001b[0m__init__\u001b[0m\u001b[1;33m(\u001b[0m\u001b[0mself\u001b[0m\u001b[1;33m,\u001b[0m \u001b[0mK\u001b[0m\u001b[1;33m,\u001b[0m \u001b[0mD\u001b[0m\u001b[1;33m,\u001b[0m \u001b[0mpotin\u001b[0m\u001b[1;33m=\u001b[0m\u001b[0mlogitPotential\u001b[0m\u001b[1;33m(\u001b[0m\u001b[1;33m)\u001b[0m\u001b[1;33m,\u001b[0m \u001b[0mscale\u001b[0m\u001b[1;33m=\u001b[0m\u001b[1;36m1\u001b[0m\u001b[1;33m)\u001b[0m\u001b[1;33m:\u001b[0m\u001b[1;33m\u001b[0m\u001b[0m\n\u001b[0;32m     16\u001b[0m         \u001b[0mself\u001b[0m\u001b[1;33m.\u001b[0m\u001b[0mpotin\u001b[0m\u001b[1;33m=\u001b[0m\u001b[0mpotin\u001b[0m\u001b[1;33m\u001b[0m\u001b[0m\n",
      "\u001b[1;32m<ipython-input-1-3a43e1a19e6b>\u001b[0m in \u001b[0;36mparset\u001b[1;34m()\u001b[0m\n\u001b[0;32m     13\u001b[0m         \u001b[0mself\u001b[0m\u001b[1;33m.\u001b[0m\u001b[0mtime\u001b[0m\u001b[1;33m=\u001b[0m\u001b[0mtime\u001b[0m\u001b[1;33m\u001b[0m\u001b[0m\n\u001b[0;32m     14\u001b[0m \u001b[1;32mclass\u001b[0m \u001b[0mparset\u001b[0m\u001b[1;33m:\u001b[0m\u001b[1;33m\u001b[0m\u001b[0m\n\u001b[1;32m---> 15\u001b[1;33m     \u001b[1;32mdef\u001b[0m \u001b[0m__init__\u001b[0m\u001b[1;33m(\u001b[0m\u001b[0mself\u001b[0m\u001b[1;33m,\u001b[0m \u001b[0mK\u001b[0m\u001b[1;33m,\u001b[0m \u001b[0mD\u001b[0m\u001b[1;33m,\u001b[0m \u001b[0mpotin\u001b[0m\u001b[1;33m=\u001b[0m\u001b[0mlogitPotential\u001b[0m\u001b[1;33m(\u001b[0m\u001b[1;33m)\u001b[0m\u001b[1;33m,\u001b[0m \u001b[0mscale\u001b[0m\u001b[1;33m=\u001b[0m\u001b[1;36m1\u001b[0m\u001b[1;33m)\u001b[0m\u001b[1;33m:\u001b[0m\u001b[1;33m\u001b[0m\u001b[0m\n\u001b[0m\u001b[0;32m     16\u001b[0m         \u001b[0mself\u001b[0m\u001b[1;33m.\u001b[0m\u001b[0mpotin\u001b[0m\u001b[1;33m=\u001b[0m\u001b[0mpotin\u001b[0m\u001b[1;33m\u001b[0m\u001b[0m\n\u001b[0;32m     17\u001b[0m         \u001b[0mself\u001b[0m\u001b[1;33m.\u001b[0m\u001b[0mW_matrix\u001b[0m\u001b[1;33m=\u001b[0m\u001b[0mnp\u001b[0m\u001b[1;33m.\u001b[0m\u001b[0mrandom\u001b[0m\u001b[1;33m.\u001b[0m\u001b[0mrandn\u001b[0m\u001b[1;33m(\u001b[0m\u001b[0mK\u001b[0m\u001b[1;33m,\u001b[0m\u001b[0mD\u001b[0m\u001b[1;33m)\u001b[0m\u001b[1;33m*\u001b[0m\u001b[0mscale\u001b[0m\u001b[1;33m\u001b[0m\u001b[0m\n",
      "\u001b[1;31mNameError\u001b[0m: name 'logitPotential' is not defined"
     ]
    }
   ],
   "source": [
    "import copy\n",
    "class observed:\n",
    "    def __init__(self, p_init, p_out):\n",
    "        self.p_init=p_init\n",
    "        self.p_out=p_out\n",
    "class hyperpars:\n",
    "    def __init__(self, NS, eps, sd, sdkern, dt, time):\n",
    "        self.eps=eps\n",
    "        self.NS=NS\n",
    "        self.sd=sd\n",
    "        self.sdkern=sdkern\n",
    "        self.dt=dt\n",
    "        self.time=time\n",
    "class parset:\n",
    "    def __init__(self, K, D, potin=logitPotential(), scale=1, muzero=None):\n",
    "        if muzero is None:\n",
    "            muzero = np.zeros(D)\n",
    "        self.potin=potin\n",
    "        self.W_matrix=np.random.randn(K,D)*scale\n",
    "        offset = np.dot(self.W_matrix,muzero)\n",
    "        self.b_vec=np.random.uniform(low=-1,high=1,size=K) - offset\n",
    "        self.g_vec=np.zeros(K)\n",
    "        self.W_sqsum=np.ones(self.W_matrix.shape)\n",
    "        self.b_sqsum=np.ones(self.b_vec.shape)\n",
    "        self.g_sqsum=np.ones(self.g_vec.shape)\n",
    "        self.fvvec=[]\n",
    "        self.tvec=[]\n",
    "        self.tnow=0\n",
    "    \n",
    "    def gclip(self, grad, gmax=1e5):\n",
    "        g_new = []\n",
    "        for i in xrange(len(grad)):\n",
    "            vnorm = np.sqrt(np.sum(grad[i]**2.0))\n",
    "            sfactor = max(1, vnorm/gmax)\n",
    "            g_new.append(np.copy(grad[i]/sfactor))\n",
    "        return g_new\n",
    "        \n",
    "    def update(self, grad, eps_val, fv, tv, ada=1e-3):\n",
    "        self.W_sqsum = self.W_sqsum + eps_val*ada*grad[0]**2\n",
    "        self.b_sqsum = self.b_sqsum + eps_val*ada*grad[1]**2\n",
    "        self.g_sqsum = self.g_sqsum + eps_val*ada*grad[2]**2\n",
    "        self.W_matrix = self.W_matrix + eps_val*grad[0]/np.sqrt(self.W_sqsum)\n",
    "        self.b_vec = self.b_vec + eps_val*grad[1]/np.sqrt(self.b_sqsum)\n",
    "        self.g_vec = self.g_vec + eps_val*grad[2]/np.sqrt(self.g_sqsum)\n",
    "        self.fvvec.append(fv)\n",
    "        self.tnow=self.tnow+tv\n",
    "        self.tvec.append(self.tnow)\n",
    "    \n",
    "    def reset_ada(self):\n",
    "        self.W_sqsum=np.ones(self.W_matrix.shape)\n",
    "        self.b_sqsum=np.ones(self.b_vec.shape)\n",
    "        self.g_sqsum=np.ones(self.g_vec.shape)\n",
    "        \n",
    "    def copy(self):\n",
    "        parnew = parset(K=self.b_vec.shape[0],D=self.W_matrix.shape[1],potin=self.potin)\n",
    "        parnew.W_matrix = np.copy(self.W_matrix)\n",
    "        parnew.b_vec = np.copy(self.b_vec)\n",
    "        parnew.g_vec = np.copy(self.g_vec)\n",
    "        parnew.fvvec = copy.copy(self.fvvec)\n",
    "        parnew.tvec = copy.copy(self.tvec)\n",
    "        parnew.tnow = self.tnow\n",
    "        return parnew\n",
    "        \n",
    "class observed_list:\n",
    "    def __init__(self, p_list, t_list):\n",
    "        self.p_list=p_list\n",
    "        self.t_list=t_list"
   ]
  },
  {
   "cell_type": "code",
   "execution_count": null,
   "metadata": {
    "collapsed": true
   },
   "outputs": [],
   "source": [
    "from IPython.html.widgets import FloatProgress\n",
    "from IPython.display import display\n",
    "from time import sleep\n",
    "\n",
    "def run_grad(datin,parin,hpars,maxit,debug=True):\n",
    "    if debug:\n",
    "        f = FloatProgress(min=0, max=maxit)\n",
    "        display(f)\n",
    "    for i in xrange(maxit):\n",
    "        time_start = time.clock()\n",
    "        W_mat = parin.W_matrix\n",
    "        b_v = parin.b_vec\n",
    "        g_v = parin.g_vec\n",
    "        emtj=euler_maruyama_traj(datin.p_init,hpars.NS,W_mat,b_v,g_v,hpars.dt,hpars.time,hpars.sd,parin.potin)\n",
    "        err_out, fval=error_term(emtj[:,:,emtj.shape[2]-1],datin.p_out,hpars.sdkern)\n",
    "        gall = backweight_all(parin.potin,err_out, W_mat, b_v, g_v, emtj, hpars.dt)\n",
    "        parin.update(gall,hpars.eps,fval,time.clock()-time_start)\n",
    "        if debug:\n",
    "            f.value = i\n",
    "    if debug:\n",
    "        print(fval)\n",
    "        plt.figure(1)\n",
    "        plt.plot(parin.fvvec)\n",
    "        plt.figure(2)\n",
    "        ind = emtj.shape[2]-1\n",
    "        plt.scatter(emtj[:,:,ind][0,:],emtj[:,:,ind][1,:],c='red')\n",
    "        plt.scatter(datin.p_out[0,:],datin.p_out[1,:])\n",
    "        plt.quiver(emtj[:,:,ind][0,:],emtj[:,:,ind][1,:],err_out[0,:],err_out[1,:])\n",
    "    return parin"
   ]
  },
  {
   "cell_type": "code",
   "execution_count": null,
   "metadata": {
    "collapsed": true
   },
   "outputs": [],
   "source": [
    "def run_grad_list(datin_list,parin,hpars,maxit,debug=True, delta=False, ada_val=1e-3):\n",
    "    if debug:\n",
    "        f = FloatProgress(min=0, max=maxit)\n",
    "        display(f)\n",
    "    for i in xrange(maxit):\n",
    "        W_mat = parin.W_matrix\n",
    "        b_v = parin.b_vec\n",
    "        g_v = parin.g_vec\n",
    "        dW = np.zeros(W_mat.shape)\n",
    "        db = np.zeros(b_v.shape)\n",
    "        dg = np.zeros(g_v.shape)\n",
    "        fv_tmp = 0\n",
    "        time_start = time.clock()\n",
    "        for j in xrange(len(datin_list.t_list)-1):\n",
    "            if not delta:\n",
    "                t_cur = datin_list.t_list[j+1] - datin_list.t_list[0]\n",
    "                dat_cur = datin_list.p_list[j+1]\n",
    "                dat_init = datin_list.p_list[0]\n",
    "            else:\n",
    "                t_cur = datin_list.t_list[j+1]-datin_list.t_list[j]\n",
    "                dat_cur = datin_list.p_list[j+1]\n",
    "                dat_init = datin_list.p_list[j]\n",
    "            emtj=euler_maruyama_traj(dat_init,hpars.NS,W_mat,b_v,g_v,hpars.dt,t_cur,hpars.sd,parin.potin)\n",
    "            err_out, fval=error_term(emtj[:,:,emtj.shape[2]-1],dat_cur,hpars.sdkern)\n",
    "            gall = backweight_all(parin.potin,err_out, W_mat, b_v, g_v, emtj, hpars.dt)\n",
    "            dW = dW + gall[0]\n",
    "            db = db + gall[1]\n",
    "            dg = dg + gall[2]\n",
    "            fv_tmp = fv_tmp + fval\n",
    "        parin.update([dW, db, dg],hpars.eps,fv_tmp,time.clock()-time_start, ada_val)\n",
    "        if debug:\n",
    "            f.value = i\n",
    "    if debug:\n",
    "        print(fval)\n",
    "        plt.figure(1)\n",
    "        plt.plot(parin.fvvec)\n",
    "        for j in xrange(len(datin_list.t_list)-1):\n",
    "            plt.figure(j+2)\n",
    "            t_cur = datin_list.t_list[j+1]\n",
    "            dat_cur = datin_list.p_list[j+1]\n",
    "            dat_init = datin_list.p_list[0]\n",
    "            emtj=euler_maruyama_traj(dat_init,hpars.NS,W_mat,b_v,g_v,hpars.dt,t_cur,hpars.sd,parin.potin)\n",
    "            ind = emtj.shape[2]-1\n",
    "            plt.scatter(emtj[:,:,ind][0,:],emtj[:,:,ind][1,:],c='red')\n",
    "            plt.scatter(dat_cur[0],dat_cur[1])\n",
    "            #plt.quiver(emtj[:,:,ind][0,:],emtj[:,:,ind][1,:],err_out[0,:],err_out[1,:])\n",
    "    return parin"
   ]
  },
  {
   "cell_type": "markdown",
   "metadata": {},
   "source": [
    "## Old code"
   ]
  },
  {
   "cell_type": "code",
   "execution_count": null,
   "metadata": {
    "collapsed": true
   },
   "outputs": [],
   "source": [
    "def backprop_all(pot,err_top, W_matrix, b_vec, g_vec, traj,dt):\n",
    "    err_mat = np.zeros(traj.shape)\n",
    "    for i in xrange(traj.shape[1]):\n",
    "        err_cur = np.copy(err_top[:,i])\n",
    "        err_mat[:,i,traj.shape[2]-1]=err_cur\n",
    "        for t in xrange(traj.shape[2]-1):\n",
    "            revt = traj.shape[2]-t-2\n",
    "            err_cur = backprop_deriv(pot,err_cur, W_matrix, b_vec ,g_vec, traj[:,i,revt],dt)\n",
    "            err_mat[:,i,revt]=err_cur\n",
    "    return err_mat"
   ]
  },
  {
   "cell_type": "code",
   "execution_count": null,
   "metadata": {
    "collapsed": true
   },
   "outputs": [],
   "source": [
    "def grad_all(pot,err_all, W_matrix, b_vec, g_vec, traj,dt):\n",
    "    grad_mat = np.zeros(W_matrix.shape)\n",
    "    grad_vec = np.zeros(b_vec.shape)\n",
    "    grad_g = np.zeros(g_vec.shape)\n",
    "    for i in xrange(traj.shape[1]):\n",
    "        for t in xrange(traj.shape[2]-1):\n",
    "            dw, db, dg = webight_deriv_all(pot,err_all[:,i,t+1],W_matrix,b_vec,g_vec,traj[:,i,t],dt)\n",
    "            grad_mat=grad_mat+dw\n",
    "            grad_vec=grad_vec+db\n",
    "            grad_g = grad_g+dg\n",
    "    return grad_mat, grad_vec, grad_g"
   ]
  },
  {
   "cell_type": "markdown",
   "metadata": {},
   "source": [
    "## Initialization at equilibrium"
   ]
  },
  {
   "cell_type": "code",
   "execution_count": 841,
   "metadata": {
    "collapsed": true
   },
   "outputs": [],
   "source": [
    "def logP(pot, W_matrix, b_vec, g_vec, x):\n",
    "    \"\"\"x is a matrix of (dim, n_pts), return a vector of length n_pts of logp for each point.\"\"\"\n",
    "    return np.sum(pot.f(np.dot(W_matrix,x)+b_vec[:,np.newaxis])*g_vec[:,np.newaxis],0)"
   ]
  },
  {
   "cell_type": "code",
   "execution_count": 842,
   "metadata": {},
   "outputs": [],
   "source": [
    "def MALA_chain(pot, W_matrix, b_vec, g_vec, state, k, dt, sd, burnin=0):\n",
    "    ptraj = np.zeros((state.shape[0],state.shape[1],k))\n",
    "    sqrtdt = np.sqrt(dt)\n",
    "    acc_sum = 0\n",
    "    for i in xrange(k+burnin):\n",
    "        drift = drift_fun(pot, W_matrix, b_vec, g_vec, state)\n",
    "        state_new = state + drift*dt + np.random.normal(scale=sd,size=state.shape)*sqrtdt\n",
    "        if i >= burnin:\n",
    "            drift_new = drift_fun(pot, W_matrix, b_vec, g_vec, state_new)\n",
    "            lpdiff = logP(pot, W_matrix, b_vec, g_vec, state_new) - logP(pot, W_matrix, b_vec, g_vec, state)\n",
    "            lq1 = -1.0/(2*dt*sd**2) * np.sum(((state_new-state) - drift*dt)**2,0)\n",
    "            lq2 = -1.0/(2*dt*sd**2) * np.sum(((state-state_new) - drift_new*dt)**2,0)\n",
    "            lqdiff = lq1-lq2\n",
    "            accpr = np.exp(lpdiff - lqdiff)\n",
    "            accept_ind = np.random.uniform(size=accpr.shape[0]) < accpr\n",
    "            acc_sum = acc_sum+np.sum(accept_ind)\n",
    "            state_new[:,np.nonzero(1-accept_ind)[0]] = state[:,np.nonzero(1-accept_ind)[0]]\n",
    "            ptraj[:,:,i-burnin]=state_new\n",
    "        state = state_new\n",
    "    #print acc_sum/float(state.shape[1]*k)\n",
    "    return ptraj"
   ]
  },
  {
   "cell_type": "code",
   "execution_count": 843,
   "metadata": {
    "collapsed": true
   },
   "outputs": [],
   "source": [
    "def MALA_tester():\n",
    "    W=np.eye(2)\n",
    "    b_vec=np.zeros(2)\n",
    "    g_vec=np.ones(2)\n",
    "    state=np.zeros((2,3))+10\n",
    "    return MALA_chain(quadraticPotential(),W,b_vec,g_vec,state,1000, 0.1, 1, burnin=100)"
   ]
  },
  {
   "cell_type": "code",
   "execution_count": 844,
   "metadata": {
    "scrolled": false
   },
   "outputs": [],
   "source": [
    "#mt=MALA_tester()\n",
    "#plt.hist(mt[0,0,:], bins=50,alpha=0.5,normed=True)\n",
    "#plt.hist(np.random.normal(size=mt.shape[2],scale=1.0),bins=50,alpha=0.5,normed=True)"
   ]
  },
  {
   "cell_type": "code",
   "execution_count": null,
   "metadata": {
    "collapsed": true
   },
   "outputs": [],
   "source": [
    "def logPGrad(pot, W_matrix, b_vec, g_vec, x, factr=1.0):\n",
    "    \"\"\"Derive the logP gradient for a vector of points x of size (dim, n_samples)\"\"\"\n",
    "    Wdot = np.dot(W_matrix,x)\n",
    "    linterm = Wdot+b_vec[:,np.newaxis] #linterm - size of K (num hidden units) by n_samples\n",
    "    pplin = pot.fp(linterm)  #size K by n_samples.\n",
    "    d_base = pplin*g_vec[:,np.newaxis]\n",
    "    dW = np.dot(d_base, np.transpose(x))*factr\n",
    "    dg = np.sum(pot.f(linterm),1)*factr\n",
    "    db = np.sum(d_base,1)*factr\n",
    "    return dW, dg, db"
   ]
  },
  {
   "cell_type": "code",
   "execution_count": null,
   "metadata": {
    "collapsed": true
   },
   "outputs": [],
   "source": [
    "def logP_cdopt(parin, samples, niter, stepsize, dt=0.01, burnin=10, ns=500, ctk=True):\n",
    "    p_ind = np.random.randint(0,np.shape(samples)[1],ns)\n",
    "    p_mat = samples[:,p_ind]\n",
    "    n_dat = np.shape(samples)[1]\n",
    "    factr = n_dat/float(ns)\n",
    "    for i in xrange(niter):\n",
    "        t_start = time.clock()\n",
    "        dW, dg, db = logPGrad(parin.potin, parin.W_matrix, parin.b_vec, parin.g_vec, samples, factr=1.0)\n",
    "        neg_samp = MALA_chain(parin.potin, parin.W_matrix, parin.b_vec, parin.g_vec, p_mat, 1, dt, np.sqrt(2), burnin=burnin)\n",
    "        if ctk:\n",
    "            p_mat = neg_samp[:,:,0]\n",
    "        dW_neg, dg_neg ,db_neg = logPGrad(parin.potin, parin.W_matrix, parin.b_vec, parin.g_vec, neg_samp[:,:,0], factr=factr)\n",
    "        parin.update([dW-dW_neg, db-db_neg, dg-dg_neg],stepsize/n_dat,0,time.clock()-t_start) \n",
    "    return parin, neg_samp"
   ]
  },
  {
   "cell_type": "code",
   "execution_count": 992,
   "metadata": {
    "collapsed": true
   },
   "outputs": [],
   "source": [
    "#parin=parset(potin=reluPotential(),K=100,D=2,scale=0.2)\n",
    "#samples=np.random.normal(size=(2,100))+5.0\n",
    "#W_opt, b_opt, g_opt, p_opt = logP_cdopt(parin,samples,niter=100,stepsize=0.1,burnin=20,ns=100)\n",
    "#x_test = np.linspace(-5,15,num=50)\n",
    "#y_test = np.linspace(-5,15,num=50)\n",
    "#plot_flow_both(x_test,y_test,parin)"
   ]
  },
  {
   "cell_type": "markdown",
   "metadata": {},
   "source": [
    "## Evaluation code"
   ]
  },
  {
   "cell_type": "code",
   "execution_count": null,
   "metadata": {
    "collapsed": true
   },
   "outputs": [],
   "source": [
    "def find_close_t(t,t_list):\n",
    "    return np.nonzero(np.array(t_list)<t)[0][-1]"
   ]
  },
  {
   "cell_type": "code",
   "execution_count": null,
   "metadata": {
    "collapsed": true
   },
   "outputs": [],
   "source": [
    "def interpolate_t_fitted(parout, h_list, t_list, target_sample, target_t,sd=1,sdkern=0.5,n_samp=5000,delta_t=None,startat=0):\n",
    "    t_init_ind = startat#find_close_t(target_t, t_list)\n",
    "    h_init = h_list[t_init_ind]\n",
    "    t_delta = target_t - t_list[t_init_ind]\n",
    "    if delta_t is None:\n",
    "        delta_t = t_delta/float(50)\n",
    "    W_mat = parout.W_matrix\n",
    "    b_v = parout.b_vec\n",
    "    g_v = parout.g_vec\n",
    "    emtj=euler_maruyama_traj(h_init,n_samp,W_mat,b_v,g_v,delta_t,t_delta,sd,parout.potin)\n",
    "    err_out, fval=error_term(emtj[:,:,emtj.shape[2]-1],target_sample,sdkern)\n",
    "    return emtj[:,:,emtj.shape[2]-1], fval"
   ]
  }
 ],
 "metadata": {
  "kernelspec": {
   "display_name": "domain_env",
   "language": "python",
   "name": "domain_env"
  },
  "language_info": {
   "codemirror_mode": {
    "name": "ipython",
    "version": 3
   },
   "file_extension": ".py",
   "mimetype": "text/x-python",
   "name": "python",
   "nbconvert_exporter": "python",
   "pygments_lexer": "ipython3",
   "version": "3.6.8"
  }
 },
 "nbformat": 4,
 "nbformat_minor": 1
}
