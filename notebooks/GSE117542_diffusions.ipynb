{
 "cells": [
  {
   "cell_type": "code",
   "execution_count": null,
   "metadata": {},
   "outputs": [],
   "source": [
    "# source notebooks\n",
    "%run '../code/Flow-functions.ipynb'\n",
    "%run '../code/Theano-function.ipynb'"
   ]
  },
  {
   "cell_type": "code",
   "execution_count": 54,
   "metadata": {},
   "outputs": [],
   "source": [
    "# load relevant packages\n",
    "import glob\n",
    "import numpy as np\n",
    "import pandas as pd\n",
    "from scipy.io import mmread"
   ]
  },
  {
   "cell_type": "markdown",
   "metadata": {},
   "source": [
    "## Load in scRNA-seq data from GSE117542\n",
    "* Paper: Molecular recording of mammalian embryogenesis (https://www.nature.com/articles/s41586-019-1184-5)\n",
    "* Data source: https://www.ncbi.nlm.nih.gov/geo/query/acc.cgi?acc=GSE117542\n",
    "\n",
    "### Data is split into four files\n",
    "1. Seurat normalized gene counts\n",
    "2. Seurat gene names\n",
    "3. Seurat barcodes\n",
    "5. Allele counts"
   ]
  },
  {
   "cell_type": "code",
   "execution_count": 59,
   "metadata": {
    "scrolled": true
   },
   "outputs": [
    {
     "name": "stdout",
     "output_type": "stream",
     "text": [
      "['../../../datasets/mol_recording/GSM3302833_embryo7_SeuratNorm.mtx', '../../../datasets/mol_recording/GSM3302826_embryo1_SeuratNorm.mtx', '../../../datasets/mol_recording/GSM3302827_embryo2a_SeuratNorm.mtx']\n",
      "['../../../datasets/mol_recording/GSM3302833_embryo7_SeuratGenes.tsv', '../../../datasets/mol_recording/GSM3302826_embryo1_SeuratGenes.tsv', '../../../datasets/mol_recording/GSM3302827_embryo2a_SeuratGenes.tsv']\n",
      "['../../../datasets/mol_recording/GSM3302833_embryo7_SeuratBarcodes.tsv', '../../../datasets/mol_recording/GSM3302826_embryo1_SeuratBarcodes.tsv', '../../../datasets/mol_recording/GSM3302827_embryo2a_SeuratBarcodes.tsv']\n"
     ]
    }
   ],
   "source": [
    "# view files from molecular recording folder \n",
    "path = '../../../datasets/mol_recording/'\n",
    "\n",
    "expr_files = [f for f in glob.glob(path + \"**/*.mtx\", recursive=True)]\n",
    "name_files = [f for f in glob.glob(path + \"**/*_SeuratGenes.tsv\", recursive=True)]\n",
    "barcode_files = [f for f in glob.glob(path + \"**/*_SeuratBarcodes.tsv\", recursive=True)]\n",
    "\n",
    "# check for correct orderinng of filenames\n",
    "print(expr_files[0:3])\n",
    "print(name_files[0:3])\n",
    "print(barcode_files[0:3])"
   ]
  },
  {
   "cell_type": "code",
   "execution_count": 63,
   "metadata": {},
   "outputs": [
    {
     "ename": "KeyboardInterrupt",
     "evalue": "",
     "output_type": "error",
     "traceback": [
      "\u001b[0;31m-------------------------------------------------------------\u001b[0m",
      "\u001b[0;31mKeyboardInterrupt\u001b[0m           Traceback (most recent call last)",
      "\u001b[0;32m<ipython-input-63-7bc153fa7ad9>\u001b[0m in \u001b[0;36m<module>\u001b[0;34m\u001b[0m\n\u001b[1;32m     13\u001b[0m \u001b[0mtable_list\u001b[0m \u001b[0;34m=\u001b[0m \u001b[0;34m[\u001b[0m\u001b[0;34m]\u001b[0m\u001b[0;34m\u001b[0m\u001b[0;34m\u001b[0m\u001b[0m\n\u001b[1;32m     14\u001b[0m \u001b[0;32mfor\u001b[0m \u001b[0mf\u001b[0m \u001b[0;32min\u001b[0m \u001b[0mfiles\u001b[0m\u001b[0;34m:\u001b[0m\u001b[0;34m\u001b[0m\u001b[0;34m\u001b[0m\u001b[0m\n\u001b[0;32m---> 15\u001b[0;31m     \u001b[0mmat\u001b[0m \u001b[0;34m=\u001b[0m \u001b[0;34m(\u001b[0m\u001b[0mmmread\u001b[0m\u001b[0;34m(\u001b[0m\u001b[0mf\u001b[0m\u001b[0;34m)\u001b[0m\u001b[0;34m)\u001b[0m\u001b[0;34m\u001b[0m\u001b[0;34m\u001b[0m\u001b[0m\n\u001b[0m\u001b[1;32m     16\u001b[0m     \u001b[0mmat\u001b[0m \u001b[0;34m=\u001b[0m \u001b[0mmat\u001b[0m\u001b[0;34m.\u001b[0m\u001b[0mtodense\u001b[0m\u001b[0;34m(\u001b[0m\u001b[0;34m)\u001b[0m\u001b[0;34m\u001b[0m\u001b[0;34m\u001b[0m\u001b[0m\n\u001b[1;32m     17\u001b[0m     \u001b[0mtable_list\u001b[0m\u001b[0;34m.\u001b[0m\u001b[0mappend\u001b[0m\u001b[0;34m(\u001b[0m\u001b[0mpd\u001b[0m\u001b[0;34m.\u001b[0m\u001b[0mDataFrame\u001b[0m\u001b[0;34m(\u001b[0m\u001b[0mmat\u001b[0m\u001b[0;34m)\u001b[0m\u001b[0;34m)\u001b[0m\u001b[0;34m\u001b[0m\u001b[0;34m\u001b[0m\u001b[0m\n",
      "\u001b[0;32m/cluster/sachit/env/anaconda/envs/domain_env/lib/python3.6/site-packages/scipy/io/mmio.py\u001b[0m in \u001b[0;36mmmread\u001b[0;34m(source)\u001b[0m\n\u001b[1;32m     73\u001b[0m         \u001b[0mMatrix\u001b[0m \u001b[0mMarket\u001b[0m \u001b[0mfile\u001b[0m\u001b[0;34m.\u001b[0m\u001b[0;34m\u001b[0m\u001b[0;34m\u001b[0m\u001b[0m\n\u001b[1;32m     74\u001b[0m     \"\"\"\n\u001b[0;32m---> 75\u001b[0;31m     \u001b[0;32mreturn\u001b[0m \u001b[0mMMFile\u001b[0m\u001b[0;34m(\u001b[0m\u001b[0;34m)\u001b[0m\u001b[0;34m.\u001b[0m\u001b[0mread\u001b[0m\u001b[0;34m(\u001b[0m\u001b[0msource\u001b[0m\u001b[0;34m)\u001b[0m\u001b[0;34m\u001b[0m\u001b[0;34m\u001b[0m\u001b[0m\n\u001b[0m\u001b[1;32m     76\u001b[0m \u001b[0;34m\u001b[0m\u001b[0m\n\u001b[1;32m     77\u001b[0m \u001b[0;31m# -----------------------------------------------------------------------------\u001b[0m\u001b[0;34m\u001b[0m\u001b[0;34m\u001b[0m\u001b[0;34m\u001b[0m\u001b[0m\n",
      "\u001b[0;32m/cluster/sachit/env/anaconda/envs/domain_env/lib/python3.6/site-packages/scipy/io/mmio.py\u001b[0m in \u001b[0;36mread\u001b[0;34m(self, source)\u001b[0m\n\u001b[1;32m    419\u001b[0m         \u001b[0;32mtry\u001b[0m\u001b[0;34m:\u001b[0m\u001b[0;34m\u001b[0m\u001b[0;34m\u001b[0m\u001b[0m\n\u001b[1;32m    420\u001b[0m             \u001b[0mself\u001b[0m\u001b[0;34m.\u001b[0m\u001b[0m_parse_header\u001b[0m\u001b[0;34m(\u001b[0m\u001b[0mstream\u001b[0m\u001b[0;34m)\u001b[0m\u001b[0;34m\u001b[0m\u001b[0;34m\u001b[0m\u001b[0m\n\u001b[0;32m--> 421\u001b[0;31m             \u001b[0;32mreturn\u001b[0m \u001b[0mself\u001b[0m\u001b[0;34m.\u001b[0m\u001b[0m_parse_body\u001b[0m\u001b[0;34m(\u001b[0m\u001b[0mstream\u001b[0m\u001b[0;34m)\u001b[0m\u001b[0;34m\u001b[0m\u001b[0;34m\u001b[0m\u001b[0m\n\u001b[0m\u001b[1;32m    422\u001b[0m \u001b[0;34m\u001b[0m\u001b[0m\n\u001b[1;32m    423\u001b[0m         \u001b[0;32mfinally\u001b[0m\u001b[0;34m:\u001b[0m\u001b[0;34m\u001b[0m\u001b[0;34m\u001b[0m\u001b[0m\n",
      "\u001b[0;32m/cluster/sachit/env/anaconda/envs/domain_env/lib/python3.6/site-packages/scipy/io/mmio.py\u001b[0m in \u001b[0;36m_parse_body\u001b[0;34m(self, stream)\u001b[0m\n\u001b[1;32m    616\u001b[0m                                      \"number of entries\")\n\u001b[1;32m    617\u001b[0m                 \u001b[0ml\u001b[0m \u001b[0;34m=\u001b[0m \u001b[0mline\u001b[0m\u001b[0;34m.\u001b[0m\u001b[0msplit\u001b[0m\u001b[0;34m(\u001b[0m\u001b[0;34m)\u001b[0m\u001b[0;34m\u001b[0m\u001b[0;34m\u001b[0m\u001b[0m\n\u001b[0;32m--> 618\u001b[0;31m                 \u001b[0mI\u001b[0m\u001b[0;34m[\u001b[0m\u001b[0mentry_number\u001b[0m\u001b[0;34m]\u001b[0m\u001b[0;34m,\u001b[0m \u001b[0mJ\u001b[0m\u001b[0;34m[\u001b[0m\u001b[0mentry_number\u001b[0m\u001b[0;34m]\u001b[0m \u001b[0;34m=\u001b[0m \u001b[0mmap\u001b[0m\u001b[0;34m(\u001b[0m\u001b[0mint\u001b[0m\u001b[0;34m,\u001b[0m \u001b[0ml\u001b[0m\u001b[0;34m[\u001b[0m\u001b[0;34m:\u001b[0m\u001b[0;36m2\u001b[0m\u001b[0;34m]\u001b[0m\u001b[0;34m)\u001b[0m\u001b[0;34m\u001b[0m\u001b[0;34m\u001b[0m\u001b[0m\n\u001b[0m\u001b[1;32m    619\u001b[0m \u001b[0;34m\u001b[0m\u001b[0m\n\u001b[1;32m    620\u001b[0m                 \u001b[0;32mif\u001b[0m \u001b[0;32mnot\u001b[0m \u001b[0mis_pattern\u001b[0m\u001b[0;34m:\u001b[0m\u001b[0;34m\u001b[0m\u001b[0;34m\u001b[0m\u001b[0m\n",
      "\u001b[0;31mKeyboardInterrupt\u001b[0m: "
     ]
    }
   ],
   "source": [
    "# load in data\n",
    "# generate a list of all the gene name files\n",
    "name_list = []\n",
    "for f in name_files:\n",
    "    name_list.append(pd.read_csv(f, sep=\"\\t\", header=None))\n",
    "\n",
    "# generate a list of all barcode files\n",
    "barcode_list = []\n",
    "for f in barcode_files:\n",
    "    barcode_list.append(pd.read_csv(f, sep=\"\\t\", header=None))\n",
    "\n",
    "# generate a list of all the Seurat normalized expression tables\n",
    "table_list = []\n",
    "for f in files:\n",
    "    mat = (mmread(f))\n",
    "    mat = mat.todense()\n",
    "    table_list.append(pd.DataFrame(mat))\n"
   ]
  },
  {
   "cell_type": "code",
   "execution_count": 65,
   "metadata": {},
   "outputs": [
    {
     "name": "stdout",
     "output_type": "stream",
     "text": [
      "                     0\n",
      "0     AAACCTGAGAAACCGC\n",
      "1     AAACCTGAGACCGGAT\n",
      "2     AAACCTGAGCCAGTAG\n",
      "3     AAACCTGAGCTAGTGG\n",
      "4     AAACCTGAGCTCCTTC\n",
      "5     AAACCTGAGGAGCGTT\n",
      "6     AAACCTGAGTAGCCGA\n",
      "7     AAACCTGAGTCCGTAT\n",
      "8     AAACCTGAGTTATCGC\n",
      "9     AAACCTGCAAATACAG\n",
      "10    AAACCTGCAATCAGAA\n",
      "11    AAACCTGCACCAGTTA\n",
      "12    AAACCTGCACTATCTT\n",
      "13    AAACCTGCACTCGACG\n",
      "14    AAACCTGCATACGCTA\n",
      "15    AAACCTGGTAGCTAAA\n",
      "16    AAACCTGGTATTCGTG\n",
      "17    AAACCTGGTCAAAGAT\n",
      "18    AAACCTGGTCGAGATG\n",
      "19    AAACCTGGTGCCTGTG\n",
      "20    AAACCTGGTGTGGCTC\n",
      "21    AAACCTGGTGTTTGGT\n",
      "22    AAACCTGGTTACCGAT\n",
      "23    AAACCTGTCACAGGCC\n",
      "24    AAACCTGTCCAAAGTC\n",
      "25    AAACCTGTCGGATGGA\n",
      "26    AAACCTGTCGGCGCTA\n",
      "27    AAACCTGTCTGCGGCA\n",
      "28    AAACCTGTCTTAGAGC\n",
      "29    AAACGGGAGAGCCCAA\n",
      "...                ...\n",
      "8887  TTTGCGCTCTTGCAAG\n",
      "8888  TTTGGTTAGCTGCGAA\n",
      "8889  TTTGGTTAGGACTGGT\n",
      "8890  TTTGGTTAGTGATCGG\n",
      "8891  TTTGGTTCAATCTACG\n",
      "8892  TTTGGTTCAATTCCTT\n",
      "8893  TTTGGTTCACATAACC\n",
      "8894  TTTGGTTCACCGGAAA\n",
      "8895  TTTGGTTGTAGGGACT\n",
      "8896  TTTGGTTGTCACACGC\n",
      "8897  TTTGGTTGTCATTAGC\n",
      "8898  TTTGGTTGTCTGCAAT\n",
      "8899  TTTGGTTGTGAGCGAT\n",
      "8900  TTTGGTTGTGTTCGAT\n",
      "8901  TTTGGTTGTTAAGGGC\n",
      "8902  TTTGGTTTCCATGCTC\n",
      "8903  TTTGGTTTCGAACTGT\n",
      "8904  TTTGGTTTCGGTGTTA\n",
      "8905  TTTGGTTTCTCGAGTA\n",
      "8906  TTTGTCAAGAAACGAG\n",
      "8907  TTTGTCAAGCACCGTC\n",
      "8908  TTTGTCAAGGTGCAAC\n",
      "8909  TTTGTCAAGTCTCCTC\n",
      "8910  TTTGTCAAGTTCGATC\n",
      "8911  TTTGTCACAGTGGGAT\n",
      "8912  TTTGTCACATGCTGGC\n",
      "8913  TTTGTCAGTACAAGTA\n",
      "8914  TTTGTCATCCAAAGTC\n",
      "8915  TTTGTCATCGGAGCAA\n",
      "8916  TTTGTCATCTGTCTCG\n",
      "\n",
      "[8917 rows x 1 columns]\n"
     ]
    }
   ],
   "source": [
    "# explore dataframes\n",
    "print(barcode_list[0])\n"
   ]
  },
  {
   "cell_type": "code",
   "execution_count": null,
   "metadata": {},
   "outputs": [],
   "source": [
    "# generate float32 matrices from the pandas dataframes and include gene names and barcodes\n",
    "matrix_list = []\n",
    "for table, name, barcode in table_list, name_files, barcode_files:\n",
    "    print(name)\n",
    "    pd.DataFrame()\n",
    "    break\n",
    "    #matrix_list.append(table.values[:,1:].astype('float32'))"
   ]
  },
  {
   "cell_type": "code",
   "execution_count": null,
   "metadata": {},
   "outputs": [],
   "source": []
  }
 ],
 "metadata": {
  "kernelspec": {
   "display_name": "domain_env",
   "language": "python",
   "name": "domain_env"
  },
  "language_info": {
   "codemirror_mode": {
    "name": "ipython",
    "version": 3
   },
   "file_extension": ".py",
   "mimetype": "text/x-python",
   "name": "python",
   "nbconvert_exporter": "python",
   "pygments_lexer": "ipython3",
   "version": "3.6.8"
  }
 },
 "nbformat": 4,
 "nbformat_minor": 2
}
